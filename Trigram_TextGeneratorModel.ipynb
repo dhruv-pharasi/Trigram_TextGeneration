{
 "cells": [
  {
   "cell_type": "code",
   "execution_count": 29,
   "metadata": {},
   "outputs": [],
   "source": [
    "import random\n",
    "import heapq\n",
    "import re\n",
    "from collections import defaultdict, Counter"
   ]
  },
  {
   "cell_type": "code",
   "execution_count": 14,
   "metadata": {},
   "outputs": [],
   "source": [
    "# Load and store the wikitext-103 corpus in a variable\n",
    "with open(\"wikitext_103.txt\", \"r\") as file:\n",
    "    corpus = file.readlines()"
   ]
  },
  {
   "cell_type": "code",
   "execution_count": 15,
   "metadata": {},
   "outputs": [],
   "source": [
    "# Get all words as a single string\n",
    "words = \"\"\n",
    "for text in corpus:\n",
    "    words += text"
   ]
  },
  {
   "cell_type": "code",
   "execution_count": 16,
   "metadata": {},
   "outputs": [],
   "source": [
    "# Preprocessing\n",
    "def preprocess(text):\n",
    "    text = re.sub(r\"[^a-zA-Z0-9\\s]\", \"\", text)  # Remove punctuation\n",
    "    text = text.lower()\n",
    "    words = text.split()\n",
    "    return words\n",
    "\n",
    "words = preprocess(words)"
   ]
  },
  {
   "cell_type": "code",
   "execution_count": 17,
   "metadata": {},
   "outputs": [],
   "source": [
    "# Build trigram model\n",
    "def build_trigram_model(words: list[str]):\n",
    "    trigram_counts = defaultdict(Counter)\n",
    "    bigram_counts = Counter()\n",
    "\n",
    "    for i in range(len(words) - 2):\n",
    "        bigram = (words[i], words[i+1])  # Two-word prefix (bigram)\n",
    "        next_word = words[i+2]        # Third word\n",
    "\n",
    "        bigram_counts[bigram] += 1       # count bigram occurrences\n",
    "        trigram_counts[bigram][next_word] += 1  # Add to the list of possible next words\n",
    "    \n",
    "    return trigram_counts, bigram_counts"
   ]
  },
  {
   "cell_type": "code",
   "execution_count": null,
   "metadata": {},
   "outputs": [],
   "source": [
    "trigram_counts, bigram_counts = build_trigram_model(words)"
   ]
  },
  {
   "cell_type": "code",
   "execution_count": 27,
   "metadata": {},
   "outputs": [],
   "source": [
    "def generate_text(trigram_counts, start_words: str, length=30):\n",
    "    \n",
    "    text = start_words.split()  # Starting bigram\n",
    "    \n",
    "    for _ in range(length):\n",
    "        current_bigram = tuple(text[-2:])  # Get the last two words (bigram)\n",
    "        \n",
    "        # If the current bigram is not in the model, stop generation\n",
    "        if current_bigram not in trigram_counts:\n",
    "            break\n",
    "        \n",
    "        # Get the possible next words and their probabilities\n",
    "        next_word_candidates = trigram_counts[current_bigram]\n",
    "        probabilities = {word: count / bigram_counts[current_bigram] for word, count in next_word_candidates.items()}\n",
    "        \n",
    "        # Use heapq to get the top 4 candidates by probability\n",
    "        top_candidates = heapq.nlargest(4, probabilities.items(), key=lambda item: item[1])\n",
    "        \n",
    "        # Randomly choose one of the top 4 candidates based on their probabilities\n",
    "        next_word = random.choices(\n",
    "            [word for word, _ in top_candidates],\n",
    "            weights=[prob for _, prob in top_candidates]\n",
    "        )[0]\n",
    "        \n",
    "        # Append the chosen word to the text\n",
    "        text.append(next_word)\n",
    "    \n",
    "    return \" \".join(text)"
   ]
  },
  {
   "cell_type": "code",
   "execution_count": 33,
   "metadata": {},
   "outputs": [],
   "source": [
    "starting_bigrams = list(trigram_counts.keys())"
   ]
  },
  {
   "cell_type": "code",
   "execution_count": null,
   "metadata": {},
   "outputs": [
    {
     "data": {
      "text/plain": [
       "'sandstone game pantry dating from around the world s first season of american idol on may 15 2012 in the united kingdom and the united kingdom and united states the song was written in the early years in the united states the united states and the other side of the year award'"
      ]
     },
     "execution_count": 38,
     "metadata": {},
     "output_type": "execute_result"
    }
   ],
   "source": [
    "# Generate text using the Trigram Model\n",
    "start_seq = \" \".join(random.choice(starting_bigrams))\n",
    "generate_text(trigram_counts, start_seq, 50)"
   ]
  }
 ],
 "metadata": {
  "kernelspec": {
   "display_name": "Python 3",
   "language": "python",
   "name": "python3"
  },
  "language_info": {
   "codemirror_mode": {
    "name": "ipython",
    "version": 3
   },
   "file_extension": ".py",
   "mimetype": "text/x-python",
   "name": "python",
   "nbconvert_exporter": "python",
   "pygments_lexer": "ipython3",
   "version": "3.10.5"
  }
 },
 "nbformat": 4,
 "nbformat_minor": 2
}
